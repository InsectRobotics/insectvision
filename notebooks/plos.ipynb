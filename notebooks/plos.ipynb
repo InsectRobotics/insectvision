{
 "cells": [
  {
   "cell_type": "markdown",
   "source": [
    "# From skylight input to behavioural output: a computational model of the insect polarised light compass\n",
    "\n",
    "### Evripidid Gkanias, Benjamin Risse, Michael Mangan, and Barbara Webb\n",
    "\n",
    "#### School of Informatics, the University of Edinburgh, Edinburgh, United Kingdom\n",
    "\n",
    "\n",
    "### Abstract\n",
    "Many insects navigate by integrating the distances and directions travelled on an outward path, allowing direct return to the starting point. Fundamental to the reliability of this process is the use of a neural compass based on external celestial cues. Here we examine how such compass information could be reliably computed by the insect brain, given realistic constraints on the sky polarisation pattern and the insect eye sensor array. By processing the degree of polarisation in different directions for different parts of the sky, our model can directly estimate the solar azimuth and also infer the confidence of the estimate. We introduce a method to correct for tilting of the sensor array, as might be caused by travel over uneven terrain. We also show that the confidence can be used to approximate the change in sun position over time, allowing the compass to remain fixed with respect to 'true north' during long excursions. We demonstrate that the compass is robust to disturbances and can be effectively used as input to an existing neural model of insect path integration. We discuss the plausibility of our model to be mapped to known neural circuits, and to be implemented for robot navigation."
   ],
   "metadata": {
    "collapsed": false
   }
  },
  {
   "cell_type": "code",
   "execution_count": null,
   "outputs": [],
   "source": [
    "from plots import *\n",
    "from results import *\n",
    "from compoundeye import POLCompassDRA\n",
    "from compoundeye.evaluation import evaluate\n",
    "from compoundeye.geometry import fibonacci_sphere\n",
    "from environment import Sun, Sky, get_seville_observer\n",
    "\n",
    "from datetime import datetime\n",
    "from scipy.io import loadmat\n",
    "from astropy.stats import circmean, circvar, rayleightest\n",
    "import numpy as np\n",
    "import matplotlib.pyplot as plt\n",
    "\n",
    "sun = Sun()\n",
    "seville_obs = get_seville_observer()"
   ],
   "metadata": {
    "collapsed": false,
    "pycharm": {
     "name": "#%%\n"
    }
   }
  },
  {
   "cell_type": "markdown",
   "source": [
    "# Skylight modalities\n",
    "\n",
    "Information available from the different modalities of the light in the sky for different positions in the sky-dome. (A) The luminance pattern of the sky is proportional to its intensity and describes the amount of light per area unit existing in a specific direction. Along with the cromaticity coordinates, it can provide spectral information. (B) The degree of linear polarisation pattern in the sky based on the scattering of the light on atmospheric particles. It is defined by the fraction of the polarised portion over the total intensity. (C) The angle of polarisation pattern in the sky is defined by the average e-vector (electric part of an electromagnetic wave) orientation of the photons."
   ],
   "metadata": {
    "collapsed": false
   }
  },
  {
   "cell_type": "code",
   "execution_count": null,
   "outputs": [],
   "source": [
    "%matplotlib inline\n",
    "\n",
    "samples = 5000\n",
    "\n",
    "theta, phi = fibonacci_sphere(samples, 180)\n",
    "sky = Sky(np.pi/6, np.pi)\n",
    "y, p, a = sky(theta, phi)\n",
    "\n",
    "plt.figure(\"sky\", figsize=(15, 5))\n",
    "plot_sky(phi, theta, y, p, a).show()"
   ],
   "metadata": {
    "collapsed": false,
    "pycharm": {
     "name": "#%%\n"
    }
   }
  },
  {
   "cell_type": "markdown",
   "source": [
    "# POL-neurons response\n",
    "\n",
    "(Left) Simulated response of the two photo-receptors in one unit in partially linearly polarised light of intensity Y = 7.5  and degree of polarisation d = 0.9 against different e-vector orientations. (Right) Simulated response of the POL-neuron to the input of the neurons in the left figure; the dashed line shows the response of the POL-OP interneuron, and the solid line is the response of the POL-neuron (normalised difference)."
   ],
   "metadata": {
    "collapsed": false
   }
  },
  {
   "cell_type": "code",
   "execution_count": null,
   "outputs": [],
   "source": [
    "Y = 7.5  # light intensity\n",
    "pol = .9  # degree of polarasation\n",
    "e = np.linspace(-np.pi / 4, 3 * np.pi / 4, 361)  # e-vector orientation\n",
    "act_func = np.sqrt  # activation function\n",
    "\n",
    "s_1 = Y * (np.square(np.cos(e)) + np.square(np.sin(e)) * np.square(1. - pol))\n",
    "s_2 = Y * (np.square(np.sin(e)) + np.square(np.cos(e)) * np.square(1. - pol))\n",
    "\n",
    "r_1 = act_func(s_1)\n",
    "r_2 = act_func(s_2)\n",
    "\n",
    "z = act_func(Y)\n",
    "r_z = (r_2 - r_1) / z\n",
    "r_pol = (r_2 - r_1) / (r_2 + r_1)\n",
    "\n",
    "plt.figure(\"photoreceptors\", figsize=(9, 5))\n",
    "plot_pol_neurons_rotating_linear_polariser(\n",
    "    [np.rad2deg(e), s_1 / Y], [np.rad2deg(e), s_2 / Y],\n",
    "    [np.rad2deg(e), r_1 / z], [np.rad2deg(e), r_2 / z],\n",
    "    [np.rad2deg(e), r_z], [np.rad2deg(e), r_pol]).show()"
   ],
   "metadata": {
    "collapsed": false,
    "pycharm": {
     "name": "#%%\n"
    }
   }
  },
  {
   "cell_type": "markdown",
   "source": [
    "# The tilting function that compensates for tilt\n",
    "\n",
    "The differing weightings of ommatidia input under three levels of tilt: from left to right $\\delta = 0^\\circ$, $\\delta = 30^\\circ$ and $\\delta = 60^\\circ$. Darker shading indicates higher weighting."
   ],
   "metadata": {
    "collapsed": false
   }
  },
  {
   "cell_type": "code",
   "execution_count": null,
   "outputs": [],
   "source": [
    "plt.figure(\"gate-ring\", figsize=(15, 5))\n",
    "plot_gate_ring(theta_t=np.deg2rad(0), subplot=131)\n",
    "plot_gate_ring(theta_t=np.deg2rad(30), subplot=132)\n",
    "plot_gate_ring(theta_t=np.deg2rad(60), subplot=133).show()"
   ],
   "metadata": {
    "collapsed": false,
    "pycharm": {
     "name": "#%%\n"
    }
   }
  },
  {
   "cell_type": "markdown",
   "source": [
    "# Using confidence of the estimate to compensate for time\n",
    "\n",
    "The confidence value of the compass response varies with the solar elevation (black dots). Within the range $18^\\circ - 67^\\circ$ this relationship can be used to estimate the elevation using the equation below:\n",
    "\n",
    "$\\theta_s' = 26^\\circ \\cdot \\Big[1 - 2\\frac{\\sin^{-1}(1 - \\tau_s)}{180^\\circ}\\Big] + 15^\\circ$\n",
    "\n",
    "with domain $\\{\\tau_s \\in \\mathbb{R} | 0 \\le \\tau_s \\le 2\\}$ and range $\\{\\theta_s' \\in \\mathbb{R}|18^\\circ < \\theta_s' < 67^\\circ\\}$. The top left plot is without disturbance, while the rest are with disturbance $\\eta = 6\\%$, $\\eta = 26\\%$ and $\\eta = 43\\%$."
   ],
   "metadata": {
    "collapsed": false
   }
  },
  {
   "cell_type": "code",
   "execution_count": null,
   "outputs": [],
   "source": [
    "plt.figure(\"res2ele\", figsize=(15, 15))\n",
    "plot_res2ele(noise=0.00, subplot=221)\n",
    "plot_res2ele(noise=0.06, subplot=222)\n",
    "plot_res2ele(noise=0.26, subplot=223)\n",
    "plot_res2ele(noise=0.43, subplot=224).show()"
   ],
   "metadata": {
    "collapsed": false,
    "pycharm": {
     "name": "#%%\n"
    }
   }
  },
  {
   "cell_type": "markdown",
   "source": [
    "The relationship between the solar elevation, azimuth and change rate of azimuth. This relationaship is given by the heuristic equation below (black line in plots):\n",
    "\n",
    "$\\frac{d\\phi_s}{dt} = \\Big[\\exp\\Big(\\frac{\\theta_s - 36^\\circ}{10^\\circ}\\Big) + 9^\\circ\\Big] \\circ/h$"
   ],
   "metadata": {
    "collapsed": false
   }
  },
  {
   "cell_type": "code",
   "execution_count": null,
   "outputs": [],
   "source": [
    "seville_obs.date = datetime.strptime(\"2018-06-21\", \"%Y-%m-%d\")\n",
    "\n",
    "plt.figure(\"ephemeris\", figsize=(15, 15))\n",
    "plot_ephemeris(seville_obs).show()"
   ],
   "metadata": {
    "collapsed": false,
    "pycharm": {
     "name": "#%%\n"
    }
   }
  },
  {
   "cell_type": "markdown",
   "source": [
    "# Step-by-step processing of the compass model\n",
    "\n",
    "(A) The sum-of sinusoids mechanism detects the solar azimuth; this is encoded in both the SOL- and TCL-layers and the activation of the two layers look identical, as the zenith (green) point is alighned with the sensor orientation. (B) The tilt compensation mechanism corrects the predicted solar azimuth using tilting information; the sensor has been tilted $30^\\circ$ NNW (so now the zenith point is $30^\\circ$ SSE). (C) The time compensation mechanism corrects for the solar azimuth changes using the solar elevation; 8 hours have passed so the sun has moved $120^\\circ$ clockwise but the compass is still aligned to the same direction."
   ],
   "metadata": {
    "collapsed": false
   }
  },
  {
   "cell_type": "code",
   "execution_count": null,
   "outputs": [],
   "source": [
    "plt.figure(\"Step-by-step processing of the compass model\", figsize=(15, 15))\n",
    "params = evaluate(sun_azi=np.pi/3, sun_ele=np.pi/3, snap=True, tilting=False)\n",
    "kwargs = {'subplot': 131}\n",
    "plot_snapshot(*params, **kwargs)\n",
    "params = evaluate(sun_azi=np.pi/3, sun_ele=np.pi/3, snap=True, tilting=(np.pi/9, 5*np.pi/6))\n",
    "kwargs = {'subplot': 132}\n",
    "plot_snapshot(*params, **kwargs)\n",
    "params = evaluate(sun_azi=-np.pi/3, sun_ele=np.pi/4, snap=True, tilting=(np.pi/9, 5*np.pi/6), ephemeris=True)\n",
    "kwargs = {'subplot': 133}\n",
    "plot_snapshot(*params, **kwargs).show()"
   ],
   "metadata": {
    "collapsed": false,
    "pycharm": {
     "name": "#%%\n"
    }
   }
  },
  {
   "cell_type": "markdown",
   "source": [
    "# The accuracy of the compass\n",
    "\n",
    "(A, B) Mean absolute angular error (coloured solid lines), MAE $\\pm$ SE, and confidence (black dashed line), $\\tau_s$, against the solar elevation for different disturbance levels, when the sensor points towards the zenith. (C) The mean absolute angular error (black solid line) and confidence (black dashed line) against different disturbance levels."
   ],
   "metadata": {
    "collapsed": false
   }
  },
  {
   "cell_type": "code",
   "execution_count": null,
   "outputs": [],
   "source": [
    "plt.figure(\"Accuracy\", figsize=(15, 5))\n",
    "plot_accuracy().show()"
   ],
   "metadata": {
    "collapsed": false,
    "pycharm": {
     "name": "#%%\n"
    }
   }
  },
  {
   "cell_type": "markdown",
   "source": [
    "# Optimisation of gating parameters\n",
    "\n",
    "Average angular error for different gating parameters. The lowest cost (green dot; $J = 10.47^\\circ \\pm 0.12^\\circ$, N = 8,500) is for ring radius $\\theta_g = 40^\\circ$ and width (variance) $\\sigma_g = 13^\\circ$."
   ],
   "metadata": {
    "collapsed": false
   }
  },
  {
   "cell_type": "code",
   "execution_count": null,
   "outputs": [],
   "source": [
    "plt.figure(\"Gating parameters optimisation\", figsize=(10, 10))\n",
    "plot_gate_optimisation().show()"
   ],
   "metadata": {
    "collapsed": false,
    "pycharm": {
     "name": "#%%\n"
    }
   }
  },
  {
   "cell_type": "markdown",
   "source": [
    "# Dealing with tilt \n",
    "\n",
    "Visualisation of the azimuthal angular error with respect to the sun position, i.e. $\\epsilon \\in [0, 90]$ and $\\alpha \\in [0, 360)$, for three tilting angles of the snsor: from left to right $\\delta = 0^\\circ$,  $\\delta = 30^\\circ$ and  $\\delta = 60^\\circ$; with (bottom) and without (top) using the gating function."
   ],
   "metadata": {
    "collapsed": false
   }
  },
  {
   "cell_type": "code",
   "execution_count": null,
   "outputs": [],
   "source": [
    "plt.figure(\"Not dealing with tilt\", figsize=(15, 5))\n",
    "plot_gate_cost(sigma=100.).show()\n",
    "plt.figure(\"Dealing with tilt\", figsize=(15, 5))\n",
    "plot_gate_cost().show()"
   ],
   "metadata": {
    "collapsed": false,
    "pycharm": {
     "name": "#%%\n"
    }
   }
  },
  {
   "cell_type": "markdown",
   "source": [
    "# Optimal compass structural parameteres\n",
    "\n",
    "The performance of the compass for different topological parameters. (A) The error as a function of the number of units, $n$; the receptive field is fixed at $\\omega = 56^\\circ$. (B) The error as a fuction of the receptive field, $\\omega$; the resolution (ration between $\\omega$ and $n$) is fixed so that number of units is $n=60$ for $\\omega = 56^\\circ$. (C) Values of the objective function on the $\\omega \\times n$ plane; red shades illustrate the degree of error; the green line shows the receptive fild value associated with the minimum error for different number of units."
   ],
   "metadata": {
    "collapsed": false
   }
  },
  {
   "cell_type": "code",
   "execution_count": null,
   "outputs": [],
   "source": [
    "plt.figure(\"Structure optimisation\", figsize=(15, 5))\n",
    "plot_structure_optimisation().show()"
   ],
   "metadata": {
    "collapsed": false,
    "pycharm": {
     "name": "#%%\n"
    }
   }
  },
  {
   "cell_type": "markdown",
   "source": [
    "# Visualisation of the disturbance\n",
    "\n",
    "Examples of the responses of the POL units in (A) a non-disturbed sky condition, (B) with $\\eta = 33\\%$ disturbance; (C) with $\\eta = 66\\%$ disturbance; and (D) with $\\eta = 99\\%$ disturbance."
   ],
   "metadata": {
    "collapsed": false
   }
  },
  {
   "cell_type": "code",
   "execution_count": null,
   "outputs": [],
   "source": [
    "seville_obs.date = datetime.strptime(\"2018-06-21 9:00\", \"%Y-%m-%d %H:%M\")\n",
    "sun.compute(seville_obs)\n",
    "\n",
    "sky = Sky(theta_s=np.pi / 2 - sun.alt, phi_s=sun.az)\n",
    "dra = POLCompassDRA()\n",
    "\n",
    "plt.figure(\"sky\", figsize=(15, 3.5))\n",
    "r_pol = dra(sky, noise=0.0)\n",
    "plot_disturbance(dra.phi, dra.theta, r_pol, subplot=141)\n",
    "r_pol = dra(sky, noise=0.33)\n",
    "plot_disturbance(dra.phi, dra.theta, r_pol, subplot=142)\n",
    "r_pol = dra(sky, noise=0.66)\n",
    "plot_disturbance(dra.phi, dra.theta, r_pol, subplot=143)\n",
    "r_pol = dra(sky, noise=0.99)\n",
    "plot_disturbance(dra.phi, dra.theta, r_pol, subplot=144).show()"
   ],
   "metadata": {
    "collapsed": false,
    "pycharm": {
     "name": "#%%\n"
    }
   }
  },
  {
   "cell_type": "markdown",
   "source": [
    "# Path integration in uneven terrain\n",
    "\n",
    "To demonstrate the performance of the sensor in a more realistic scenario, we intregrated the compass and path integration models, testing how the compass accurately affects the foraging  and homing paths. Here is the uneven terrain map we use to test the tilt compensation mechanism of our model in practice. We set up the experiments to take place at 10am in Seville, Spain ($37^\\circ$23'33.03\"N, $5^\\circ$53'01.95\"W). The maximum altitude variance is 1m and the maximum tilting angle noticed in all the experiments is $\\delta = 52^\\circ$."
   ],
   "metadata": {
    "collapsed": false
   }
  },
  {
   "cell_type": "code",
   "execution_count": null,
   "outputs": [],
   "source": [
    "max_altitude = .5  # maximum altitude [m]\n",
    "tau = .6  # the smoothing parameter in order to create hills and valeys\n",
    "\n",
    "# create terrain\n",
    "x_terrain = np.linspace(0, 10, 1001, endpoint=True)\n",
    "y_terrain = np.linspace(0, 10, 1001, endpoint=True)\n",
    "x_terrain, y_terrain = np.meshgrid(x_terrain, y_terrain)\n",
    "z_terrain = get_terrain(max_altitude, tau, x_terrain, y_terrain)\n",
    "\n",
    "plt.figure(\"Uneven terrain\", figsize=(10, 10))\n",
    "plot_terrain(z_terrain, max_altitude).show()"
   ],
   "metadata": {
    "collapsed": false,
    "pycharm": {
     "name": "#%%\n"
    }
   }
  },
  {
   "cell_type": "code",
   "execution_count": null,
   "outputs": [],
   "source": [
    "create_paths()  # create the paths for different terrain and sky conditions"
   ],
   "metadata": {
    "collapsed": false,
    "pycharm": {
     "name": "#%%\n"
    }
   }
  },
  {
   "cell_type": "markdown",
   "source": [
    "# Behavioural simulation for the path integration trask\n",
    "\n",
    "Outward (away from the nest -- bold lines) and inward paths (towards the nest -- faded lines) of artificial ants that use the proposed compass to orient themselves in different disturbance and inclination levels. Each panel of the top row shows the route of the ant in different maximum surface steepness ($\\delta \\in \\{15^\\circ, 28^\\circ, 38^\\circ, 47^\\circ, 52^\\circ\\}$; different coloured lines in the same panel) which is associated with the respective altitude variance in the terrain shown above ($\\alpha \\in \\{0.2\\,\\text{m}, 0.4\\,\\text{m}, 0.6\\,\\text{m}, 0.8\\,\\text{m}, 1.0\\,\\text{m}\\}$. The panels of the bottom row show the routes of the ant in different sky-disturbance levels ($\\eta \\in \\{0.0, 0.2, 0.4, 0.6, 0.8\\}$; different coloured lines in the same panel) for a specific maximum inclination.\n",
    "\n",
    "Later, there is the comparison of the path integration performance in terms of tortuosity generated by the above experiment."
   ],
   "metadata": {
    "collapsed": false
   }
  },
  {
   "cell_type": "code",
   "execution_count": null,
   "outputs": [],
   "source": [
    "stats = np.load(\"data/pi-stats.npz\")\n",
    "\n",
    "ipaths = stats[\"ipath\"]\n",
    "opaths = stats[\"opath\"]\n",
    "d_xs = stats[\"d_x\"]\n",
    "d_cs = stats[\"d_c\"]\n",
    "max_alts = stats[\"max_alt\"]\n",
    "noises = stats[\"noise\"]\n",
    "un_max_alts = np.sort(np.unique(max_alts))\n",
    "un_noises = np.sort(np.unique(noises))\n",
    "\n",
    "plt.figure(\"Inclinations\", figsize=(15, 5))\n",
    "for j, max_alt in enumerate(un_max_alts):\n",
    "    for id, noise in enumerate(un_noises):\n",
    "        ipath = ipaths[np.all([max_alt == max_alts, noise == noises], axis=0)][0]\n",
    "        opath = opaths[np.all([max_alt == max_alts, noise == noises], axis=0)][0]\n",
    "        plot_route(opath, ipath, id=id, label=r'$\\eta = %.1f$' % noise, subplot=101 + len(un_max_alts) * 10 + j)\n",
    "plt.legend()\n",
    "\n",
    "plt.figure(\"Disturbances\", figsize=(15, 5))\n",
    "for j, noise in enumerate(un_noises):\n",
    "    for id, max_alt in enumerate(un_max_alts):\n",
    "        ipath = ipaths[np.all([max_alt == max_alts, noise == noises], axis=0)][0]\n",
    "        opath = opaths[np.all([max_alt == max_alts, noise == noises], axis=0)][0]\n",
    "        plot_route(opath, ipath, id=id, label=r'$I = %.1f$' % max_alt, subplot=101 + len(un_max_alts) * 10 + j)\n",
    "plt.legend()\n",
    "plt.show()"
   ],
   "metadata": {
    "collapsed": false,
    "pycharm": {
     "name": "#%%\n"
    }
   }
  },
  {
   "cell_type": "code",
   "execution_count": null,
   "outputs": [],
   "source": [
    "plt.figure(\"Inclinations' tortuosity\", figsize=(18, 3))\n",
    "for j, max_alt in enumerate(un_max_alts):\n",
    "    for id, noise in enumerate(un_noises):\n",
    "        d_x = d_xs[np.all([max_alt == max_alts, noise == noises], axis=0)]\n",
    "        d_c = d_cs[np.all([max_alt == max_alts, noise == noises], axis=0)]\n",
    "        plot_tortuosity(d_c, d_x, id=id, label=r'$\\eta = %.1f$' % noise, subplot=101 + len(un_max_alts) * 10 + j)\n",
    "plt.legend()\n",
    "\n",
    "plt.figure(\"Disturbances' tortuosity\", figsize=(18, 3))\n",
    "for j, noise in enumerate(un_noises):\n",
    "    for id, max_alt in enumerate(un_max_alts):\n",
    "        d_x = d_xs[np.all([max_alt == max_alts, noise == noises], axis=0)]\n",
    "        d_c = d_cs[np.all([max_alt == max_alts, noise == noises], axis=0)]\n",
    "        plot_tortuosity(d_c, d_x, id=id, label=r'$I = %.1f$' % max_alt, subplot=101 + len(un_noises) * 10 + j)\n",
    "plt.legend()\n",
    "plt.show()"
   ],
   "metadata": {
    "collapsed": false,
    "pycharm": {
     "name": "#%%\n"
    }
   }
  },
  {
   "cell_type": "code",
   "execution_count": null,
   "outputs": [],
   "source": [
    "create_ephem_paths()  # create the paths for testing the ephemeris function"
   ],
   "metadata": {
    "collapsed": false,
    "pycharm": {
     "name": "#%%\n"
    }
   }
  },
  {
   "cell_type": "markdown",
   "source": [
    "# Behavioural simulation for the path integration task in long runs\n",
    "\n",
    "We scale up our experimental arena (by a factor of 120) to enable longer runs that demonstrate the performance of the time compensation mechanism. (Left) Path integration with (blue line) and without using the time compensation mechanism (orange line); direction of the sun at the beginning (10:00 am, $103.65^\\circ$ clockwise from north) and end of the route (11:16 am, $127.47^\\circ$ clockwise from north). (Right) Comparison of the path integration performance in terms of tortuosity generated by the above experiment."
   ],
   "metadata": {
    "collapsed": false
   }
  },
  {
   "cell_type": "code",
   "execution_count": null,
   "outputs": [],
   "source": [
    "stats_ephem = np.load(\"data/pi-stats-ephem.npz\")\n",
    "stats_noephem = np.load(\"data/pi-stats-no-ephem.npz\")\n",
    "\n",
    "ipaths = np.vstack([stats_ephem[\"ipath\"][:1], stats_noephem[\"ipath\"][:1]])\n",
    "opaths = np.vstack([stats_ephem[\"opath\"][1][np.newaxis], stats_noephem[\"opath\"][1][np.newaxis]])\n",
    "d_xs = np.vstack([stats_ephem[\"d_x\"][np.newaxis], stats_noephem[\"d_x\"][np.newaxis]])\n",
    "d_cs = np.vstack([stats_ephem[\"d_c\"][np.newaxis], stats_noephem[\"d_c\"][np.newaxis]])\n",
    "\n",
    "plt.figure(\"Ephemeris\", figsize=(10, 5))\n",
    "plot_route(opaths[0], ipaths[0], id=0, label='ephemeris', subplot=121, xlim=[4, 11])\n",
    "plot_route(opaths[1], ipaths[1], id=1, label='ephemeris', subplot=121, xlim=[4, 11])\n",
    "\n",
    "plot_tortuosity(d_cs[0], d_xs[0], id=0, label=\"w/ ephemeris\", subplot=122)\n",
    "plot_tortuosity(d_cs[1], d_xs[1], id=1, label=\"w/o ephemeris\", subplot=122)\n",
    "plt.legend()\n",
    "\n",
    "plt.show()"
   ],
   "metadata": {
    "collapsed": false,
    "pycharm": {
     "name": "#%%\n"
    }
   }
  },
  {
   "cell_type": "markdown",
   "source": [
    "# Response of compass neurons in the locust brain\n",
    "\n",
    "E-vector orientation resulting in maximum excitation, ${\\phi}_{\\max}$, of the real (desert locust) neurons in the CX.\n",
    "\n",
    "## Rotating Linear Polariser: Real Tb1-neurons response\n",
    "\n",
    "Each panel shows the response (black bars) and $\\phi_\\text{max}$ (red line) of a specific TB1-neuron in the CX. The different rows of the panel-grid show the location of the neurons in the PB. The columns show the response of different TB1-neurons in the desert locust brain supplied by Stanley Heinze and organised in rows with respect to their location; row 3 and 7 are empty due to a lack of data; different panels in the same row show different neurons in the same region."
   ],
   "metadata": {
    "collapsed": false
   }
  },
  {
   "cell_type": "code",
   "execution_count": null,
   "outputs": [],
   "source": [
    "columns = [\n",
    "    ['fz1028'],  # L8/R1\n",
    "    ['060126', '060131', '050105a', 'fz1049'],  # L7/R2\n",
    "    ['050329', '050309a', '050124b', '041215', 'fz1020', 'fz1038'],  # L6/R3\n",
    "    ['060124', '060206a', '060206b', 'fz1016'],  # L5/R4\n",
    "    ['050520', '040604b', 'fz1040'],  # L4/R5\n",
    "    [],  # L3/R6\n",
    "    ['050309b', '050222'],  # L2/R7\n",
    "    ['041209', 'fz1051'],  # L1/R8\n",
    "]\n",
    "\n",
    "phi_tb1 = 3*np.pi/2 - np.linspace(0, np.pi, 8)\n",
    "phi = np.linspace(np.deg2rad(5), np.deg2rad(355), 36)\n",
    "tb1_phi_max = []\n",
    "tb1_phi_mean = []\n",
    "tb1_p_values = []\n",
    "bl = .5\n",
    "\n",
    "plt.figure(\"TB1 rotating linear polariser\", figsize=(18, 24))\n",
    "\n",
    "for j, filenames in enumerate(columns):\n",
    "    col = j\n",
    "    tb1_phi_mean.append([])\n",
    "    tb1_p_values.append([])\n",
    "\n",
    "    for i, filename in enumerate(filenames):\n",
    "        if 'fz' in filename:\n",
    "            continue\n",
    "        tb1s = loadmat(\"data/TB1_neurons/mean_rotation_%s.mat\" % filename)['mean_rotation'][:, ::2]\n",
    "        tb1s = tb1s.reshape((-1, 2)).mean(axis=1).reshape((1, -1))\n",
    "\n",
    "        z = tb1s.max() - tb1s.min()\n",
    "        r_std = tb1s.std(axis=0) / np.sqrt(z)\n",
    "        bl = .5\n",
    "        r_mean = tb1s.flatten() / tb1s.max() - bl\n",
    "        p_value = rayleightest(phi, weights=r_mean + bl)\n",
    "        phi_mean_00 = circmean((phi - np.pi / 2) % np.pi + np.pi/2, weights=np.power(r_mean + bl, 8))\n",
    "        phi_var_00 = circvar((phi - np.pi / 2) % np.pi + np.pi/2, weights=np.power(r_mean + bl, 8))\n",
    "        phi_mean_90 = circmean(phi % np.pi, weights=np.power(r_mean + bl, 8))\n",
    "        phi_var_90 = circvar(phi % np.pi, weights=np.power(r_mean + bl, 8))\n",
    "        phi_mean = phi_mean_00 if phi_var_00 < phi_var_90 else phi_mean_90\n",
    "        d_00 = np.absolute((phi_mean - phi_tb1[-1 - i] + np.pi) % (2 * np.pi) - np.pi)\n",
    "        d_pi = np.absolute((phi_mean - phi_tb1[-1 - i]) % (2 * np.pi) - np.pi)\n",
    "        if d_00 > d_pi:\n",
    "            phi_mean += np.pi\n",
    "        tb1_phi_mean[j].append(phi_mean)\n",
    "        tb1_p_values[j].append(p_value)\n",
    "\n",
    "        plot_circ_response(phi, r_mean, r_std, phi_mean, subplot=(8, 6, j * 6 + i + 1))\n",
    "\n",
    "for i, phi_mean_i in enumerate(tb1_phi_mean):\n",
    "    col = i\n",
    "    for j, phi_mean_j in enumerate(phi_mean_i):\n",
    "        d_00 = np.absolute((phi_mean_j - phi_tb1[-1 - i] + np.pi) % (2 * np.pi) - np.pi)\n",
    "        d_pi = np.absolute((phi_mean_j - phi_tb1[-1 - i]) % (2 * np.pi) - np.pi)\n",
    "        if d_00 > d_pi:\n",
    "            phi_mean_i[j] += np.pi\n",
    "\n",
    "    phi_max_i = circmean(np.array(phi_mean_i)) % (2 * np.pi)\n",
    "    tb1_phi_max.append(phi_max_i)\n",
    "plt.show()"
   ],
   "metadata": {
    "collapsed": false,
    "pycharm": {
     "name": "#%%\n"
    }
   }
  },
  {
   "cell_type": "markdown",
   "source": [
    "## Rotating Linear Polariser: Simulated TCL-neurons response\n",
    "\n",
    "The response of the artificial TCL-neurons in a similar stimuli to the one used in the desert locust experiment."
   ],
   "metadata": {
    "collapsed": false
   }
  },
  {
   "cell_type": "code",
   "execution_count": null,
   "outputs": [],
   "source": [
    "phi_tb1 = 3 * np.pi / 2 - np.linspace(np.pi, 0, 8)\n",
    "\n",
    "\n",
    "def responses(sun_ele=np.pi / 3, uniform=True, noise=.5, bl=.5):\n",
    "    sun_azi = np.linspace(-np.pi, np.pi, 36, endpoint=False)\n",
    "    sun_ele = np.full_like(sun_azi, sun_ele)\n",
    "    \n",
    "    phi_maxs = []\n",
    "    r_means = []\n",
    "    r_stds = []\n",
    "    p_values = []\n",
    "    tb1s = np.empty((0, sun_azi.shape[0], 8), dtype=sun_azi.dtype)\n",
    "    \n",
    "    for n_tb1 in xrange(8):\n",
    "        tb1s = np.empty((0, sun_azi.shape[0], 8), dtype=sun_azi.dtype)\n",
    "    \n",
    "        for _ in np.linspace(0, 1, 100):\n",
    "            d_deg, d_eff, t, phi, r_tb1 = evaluate(uniform_polariser=uniform,\n",
    "                                                   sun_azi=sun_azi, sun_ele=sun_ele, tilting=False, noise=noise)\n",
    "            tb1s = np.vstack([tb1s, np.transpose(r_tb1, axes=(1, 0, 2))])\n",
    "    \n",
    "        r_mean = np.median(tb1s[..., n_tb1], axis=0)\n",
    "        z = r_mean.max() - r_mean.min()\n",
    "    \n",
    "        r_mean = (r_mean - r_mean.min()) / z - bl\n",
    "        r_means.append(r_mean)\n",
    "        r_stds.append(tb1s[..., n_tb1].std(axis=0) / np.sqrt(z))\n",
    "    \n",
    "        p_values.append(rayleightest(sun_azi, weights=r_mean + bl))\n",
    "        phi_max = circmean(sun_azi, weights=np.power(r_mean + bl, 50))\n",
    "        phi_maxs.append(phi_max)\n",
    "    \n",
    "    z = tb1s.max() - tb1s.min()\n",
    "    tb1s = (tb1s - tb1s.min()) / z\n",
    "    phis = np.transpose(np.array([[sun_azi] * 100] * 8), axes=(1, 2, 0))\n",
    "    phi_means = circmean(phis, axis=1, weights=np.power(tb1s, 50)).T\n",
    "    \n",
    "    return np.array(phi_maxs)[::-1], phi_means[::-1], np.array(r_means)[::-1], np.array(r_stds)[::-1], np.array(p_values)[::-1]\n",
    "\n",
    "\n",
    "tcl_phi_max, tcl_phi_mean, tcl_r_mean, tcl_r_std, tcl_p_values = responses(uniform=True, noise=0.)\n",
    "\n",
    "plt.figure(\"TCL rotating linear polariser\", figsize=(18, 6))\n",
    "for n_tcl, r_mean, r_std, phi_max in zip(range(len(tcl_phi_max)), tcl_r_mean, tcl_r_std, tcl_phi_max):\n",
    "    plot_circ_response(phi, r_mean, 0. * r_std, phi_max, subplot=(2, 4, n_tcl + 1))\n",
    "plt.show()\n",
    "\n",
    "tcl_phi_max, tcl_phi_mean, tcl_r_mean, tcl_r_std, tcl_p_values = responses(uniform=True, noise=0.1)"
   ],
   "metadata": {
    "collapsed": false,
    "pycharm": {
     "name": "#%%\n"
    }
   }
  },
  {
   "cell_type": "markdown",
   "source": [
    "## Rotating Sky: Simulated TCL-neurons response\n",
    "\n",
    "The response of the same TCL-neurons when the artificial DRA is exposed to natural sky-light extracted by a simulated rotating sky."
   ],
   "metadata": {
    "collapsed": false
   }
  },
  {
   "cell_type": "code",
   "execution_count": null,
   "outputs": [],
   "source": [
    "tcl_sky_phi_max, tcl_sky_phi_mean, tcl_sky_r_mean, tcl_sky_r_std, tcl_sky_p_values = responses(\n",
    "    uniform=False, noise=0.1)\n",
    "\n",
    "plt.figure(\"TCL rotating sky\", figsize=(18, 6))\n",
    "for n_tcl, r_mean, r_std, phi_max in zip(\n",
    "        range(len(tcl_sky_phi_max)), tcl_sky_r_mean, tcl_sky_r_std, tcl_sky_phi_max):\n",
    "    plot_circ_response(phi, r_mean, 0. * r_std, phi_max, uniform=False, subplot=(2, 4, n_tcl + 1))\n",
    "plt.show()"
   ],
   "metadata": {
    "collapsed": false,
    "pycharm": {
     "name": "#%%\n"
    }
   }
  },
  {
   "cell_type": "markdown",
   "source": [
    "## Summary of the neural-responses results"
   ],
   "metadata": {
    "collapsed": false
   }
  },
  {
   "cell_type": "code",
   "execution_count": null,
   "outputs": [],
   "source": [
    "plt.figure(\"TB1/TCL summary\", figsize=(15, 5))\n",
    "\n",
    "plot_summary_response(tb1_phi_mean, tb1_phi_max, fit_line=True, subplot=131)\n",
    "plot_summary_response(tcl_phi_mean, tcl_phi_max, fit_line=False, subplot=132)\n",
    "plot_summary_response(tcl_sky_phi_mean, tcl_sky_phi_max, fit_line=True, subplot=133)\n",
    "plt.show()"
   ],
   "metadata": {
    "collapsed": false,
    "pycharm": {
     "name": "#%%\n"
    }
   }
  },
  {
   "cell_type": "markdown",
   "source": [
    "Copyright &copy; 2019, Insect Robotics Group, Institude of Perception, Action and Behaviour, School of Informatics, the University of Edinburgh"
   ],
   "metadata": {
    "collapsed": false
   }
  }
 ],
 "metadata": {
  "kernelspec": {
   "display_name": "Python 2",
   "language": "python",
   "name": "python2"
  },
  "language_info": {
   "codemirror_mode": {
    "name": "ipython",
    "version": 2
   },
   "file_extension": ".py",
   "mimetype": "text/x-python",
   "name": "python",
   "nbconvert_exporter": "python",
   "pygments_lexer": "ipython2",
   "version": "2.7.15rc1"
  }
 },
 "nbformat": 4,
 "nbformat_minor": 1
}